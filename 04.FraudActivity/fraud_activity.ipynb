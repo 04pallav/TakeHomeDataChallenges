{
 "cells": [
  {
   "cell_type": "markdown",
   "metadata": {},
   "source": [
    "Company XYZ is an e-commerce site that sells hand-made clothes.\n",
    "\n",
    "You have to build a model that predicts whether a user has a high probability of using the site to perform some illegal activity or not. This is a super common task for data scientists.\n",
    "\n",
    "You only have information about the user ** ﬁrst transaction ** on the site and based on that you have to make your classiﬁcation (\"fraud/no fraud\")."
   ]
  },
  {
   "cell_type": "markdown",
   "metadata": {},
   "source": [
    "# Index\n",
    "* [Answer question 1](#Answer-question-1)\n",
    "* [Answer question 2](#Answer-question-2)\n",
    "    * [Feature Engineering](#Feature-Engineering)\n",
    "    * [Train the model](#Train-the-model)\n",
    "    * [Plot ROC and choose threshold](#Plot-ROC-and-choose-threshold)\n",
    "    * [Impact of FP vs. FN](#Impact-of-FP-vs.-FN)\n",
    "* [Answer question 3](#Answer-question-3)\n",
    "* [Answer question 4](#Answer-question-4)"
   ]
  },
  {
   "cell_type": "code",
   "execution_count": 39,
   "metadata": {
    "collapsed": true
   },
   "outputs": [],
   "source": [
    "import bisect\n",
    "import numpy as np\n",
    "import pandas as pd\n",
    "from sklearn.tree import DecisionTreeClassifier,export_graphviz\n",
    "from sklearn.cross_validation import  train_test_split\n",
    "from sklearn.metrics import accuracy_score,classification_report,roc_curve\n",
    "import xgboost as xgb\n",
    "\n",
    "import matplotlib.pyplot as plt\n",
    "plt.style.use('ggplot')\n",
    "%matplotlib inline"
   ]
  },
  {
   "cell_type": "markdown",
   "metadata": {},
   "source": [
    "# Answer question 1\n",
    "<span style='color:blue'>For each user, determine her country based on the numeric IP address.</span>\n",
    "\n",
    "I will use ** Binary Search ** to map IP address to country."
   ]
  },
  {
   "cell_type": "code",
   "execution_count": 2,
   "metadata": {
    "collapsed": true
   },
   "outputs": [],
   "source": [
    "class IpLookupTable(object):\n",
    "    def __init__(self, df):\n",
    "        \"\"\"\n",
    "        input: \n",
    "            df: DataFrame read from 'IpAddress_to_Country.csv'\n",
    "        \"\"\"\n",
    "        self._nrows = df.shape[0]\n",
    "        # add two more slots, one is for the ipaddress < minimum ipaddress from the file\n",
    "        # another is for the ipaddress > maximum ipaddress from the file\n",
    "        self._ip_lowbounds = [0 for _ in xrange(self._nrows + 2)]\n",
    "        self._countries = [\"Unknown\" for _ in xrange(self._nrows + 2)]\n",
    "\n",
    "        # start from 1, because 0-th cell is for ipaddress < minimal known ipaddress\n",
    "        for r in xrange(1, self._nrows + 1):\n",
    "            self._ip_lowbounds[r] = df.iloc[r - 1, 0]\n",
    "            self._countries[r] = df.iloc[r - 1, 2]\n",
    "            # assume the file is in ascending order\n",
    "            assert self._ip_lowbounds[r] > self._ip_lowbounds[r - 1]\n",
    "\n",
    "        # we cannot assign all ip> last low boundary to be that country\n",
    "        # so I create a dummy ipaddress which larger than maximal known ipaddress\n",
    "        self._ip_lowbounds[self._nrows + 1] = df.iloc[self._nrows - 1, 1] + 1\n",
    "\n",
    "    def find_country(self, ip):\n",
    "        index = bisect.bisect(self._ip_lowbounds, ip) - 1\n",
    "        # within the range, or in last cell which doesn't have next cell\n",
    "        assert ip >= self._ip_lowbounds[index] and (index == self._nrows + 1 or ip < self._ip_lowbounds[index + 1])\n",
    "        return self._countries[index]"
   ]
  },
  {
   "cell_type": "code",
   "execution_count": 3,
   "metadata": {
    "collapsed": false
   },
   "outputs": [],
   "source": [
    "ip2country = pd.read_csv(\"IpAddress_to_Country.csv\")\n",
    "iplookuptable = IpLookupTable(ip2country)"
   ]
  },
  {
   "cell_type": "code",
   "execution_count": 4,
   "metadata": {
    "collapsed": true
   },
   "outputs": [],
   "source": [
    "datas = pd.read_csv(\"Fraud_Data.csv\",index_col='user_id')"
   ]
  },
  {
   "cell_type": "code",
   "execution_count": 5,
   "metadata": {
    "collapsed": false
   },
   "outputs": [],
   "source": [
    "datas[\"country\"] = datas.ip_address.map(iplookuptable.find_country)"
   ]
  },
  {
   "cell_type": "code",
   "execution_count": 6,
   "metadata": {
    "collapsed": false
   },
   "outputs": [
    {
     "data": {
      "text/plain": [
       "United States                      59222\n",
       "Unknown                            20017\n",
       "China                              12038\n",
       "Japan                               7918\n",
       "United Kingdom                      4492\n",
       "Korea Republic of                   4162\n",
       "Germany                             3647\n",
       "France                              3163\n",
       "Canada                              2981\n",
       "Brazil                              2961\n",
       "Italy                               1946\n",
       "Australia                           1845\n",
       "Netherlands                         1825\n",
       "Russian Federation                  1616\n",
       "India                               1310\n",
       "Taiwan; Republic of China (ROC)     1237\n",
       "Mexico                              1121\n",
       "Sweden                              1090\n",
       "Spain                               1027\n",
       "South Africa                         838\n",
       "Switzerland                          785\n",
       "Poland                               729\n",
       "Argentina                            661\n",
       "Indonesia                            649\n",
       "Norway                               610\n",
       "Colombia                             602\n",
       "Turkey                               568\n",
       "Viet Nam                             550\n",
       "Romania                              525\n",
       "Denmark                              490\n",
       "                                   ...  \n",
       "Antigua and Barbuda                    3\n",
       "Virgin Islands (U.S.)                  3\n",
       "Bermuda                                2\n",
       "Lesotho                                2\n",
       "Fiji                                   2\n",
       "Liechtenstein                          2\n",
       "Maldives                               2\n",
       "Benin                                  2\n",
       "Burkina Faso                           2\n",
       "Gibraltar                              2\n",
       "Bhutan                                 2\n",
       "Saint Kitts and Nevis                  2\n",
       "Bonaire; Sint Eustatius; Saba          1\n",
       "Niger                                  1\n",
       "Madagascar                             1\n",
       "Turkmenistan                           1\n",
       "British Indian Ocean Territory         1\n",
       "Tajikistan                             1\n",
       "Yemen                                  1\n",
       "Cape Verde                             1\n",
       "Saint Martin                           1\n",
       "Myanmar                                1\n",
       "Burundi                                1\n",
       "Guadeloupe                             1\n",
       "Gambia                                 1\n",
       "San Marino                             1\n",
       "Vanuatu                                1\n",
       "Nauru                                  1\n",
       "Dominica                               1\n",
       "South Sudan                            1\n",
       "Name: country, dtype: int64"
      ]
     },
     "execution_count": 6,
     "metadata": {},
     "output_type": "execute_result"
    }
   ],
   "source": [
    "datas.country.value_counts()"
   ]
  },
  {
   "cell_type": "markdown",
   "metadata": {},
   "source": [
    "we can see some visit is from very <span style='color:red;font-size:1.5em;font-weight:bold'>rare countries</span>."
   ]
  },
  {
   "cell_type": "code",
   "execution_count": 7,
   "metadata": {
    "collapsed": true
   },
   "outputs": [],
   "source": [
    "minip = ip2country.iloc[0,0]\n",
    "maxip = ip2country.iloc[-1,1]\n",
    "\n",
    "# check all IP from 'Unknown' country are either < minip or > maxip\n",
    "country_unknown_ips = datas.loc[datas.country == 'Unknown','ip_address']\n",
    "smaller_than_min = country_unknown_ips < minip\n",
    "larger_than_max = country_unknown_ips > maxip\n",
    "assert (np.all( smaller_than_min | larger_than_max))# check succeeds"
   ]
  },
  {
   "cell_type": "markdown",
   "metadata": {},
   "source": [
    "# Answer question 2\n",
    "<span style='color:blue'>Build a model to predict whether an activity is fraudulent or not. Explain how diﬀerent assumptions about the cost of false positives vs false negatives would impact the model.</span>"
   ]
  },
  {
   "cell_type": "markdown",
   "metadata": {},
   "source": [
    "## Feature Engineering"
   ]
  },
  {
   "cell_type": "code",
   "execution_count": 8,
   "metadata": {
    "collapsed": false
   },
   "outputs": [],
   "source": [
    "datas['signup_time'] = pd.to_datetime(datas.signup_time)\n",
    "datas['purchase_time'] = pd.to_datetime(datas.purchase_time)\n",
    "\n",
    "# it is very suspicious for a user signup and then immediately purchase\n",
    "datas['interval_after_signup'] = (datas.purchase_time - datas.signup_time).dt.total_seconds()\n",
    "\n",
    "datas.drop([\"signup_time\", \"purchase_time\"], axis=1, inplace=True)"
   ]
  },
  {
   "cell_type": "code",
   "execution_count": 9,
   "metadata": {
    "collapsed": true
   },
   "outputs": [],
   "source": [
    "# how many times a device is shared\n",
    "n_dev_shared = datas.device_id.value_counts()\n",
    "\n",
    "# because we are studying user's first transaction\n",
    "# the more a device is shared, the more suspicious\n",
    "datas['n_dev_shared'] = datas.device_id.map(n_dev_shared)\n",
    "del datas['device_id']"
   ]
  },
  {
   "cell_type": "code",
   "execution_count": 10,
   "metadata": {
    "collapsed": false
   },
   "outputs": [],
   "source": [
    "# how many times a ip address is shared\n",
    "n_ip_shared = datas.ip_address.value_counts()\n",
    "\n",
    "# because we are studying user's first transaction\n",
    "# the more a ip is shared, the more suspicous\n",
    "datas['n_ip_shared'] = datas.ip_address.map(n_ip_shared)\n",
    "del datas['ip_address']"
   ]
  },
  {
   "cell_type": "code",
   "execution_count": 11,
   "metadata": {
    "collapsed": true
   },
   "outputs": [],
   "source": [
    "# how many users are from the same country\n",
    "n_country_shared = datas.country.value_counts()\n",
    "\n",
    "# the less visit from a country, the more suspicious\n",
    "datas['n_country_shared'] = datas.country.map(n_country_shared)\n",
    "del datas['country']"
   ]
  },
  {
   "cell_type": "code",
   "execution_count": 12,
   "metadata": {
    "collapsed": false
   },
   "outputs": [
    {
     "data": {
      "text/html": [
       "<div>\n",
       "<table border=\"1\" class=\"dataframe\">\n",
       "  <thead>\n",
       "    <tr style=\"text-align: right;\">\n",
       "      <th></th>\n",
       "      <th>purchase_value</th>\n",
       "      <th>source</th>\n",
       "      <th>browser</th>\n",
       "      <th>sex</th>\n",
       "      <th>age</th>\n",
       "      <th>class</th>\n",
       "      <th>interval_after_signup</th>\n",
       "      <th>n_dev_shared</th>\n",
       "      <th>n_ip_shared</th>\n",
       "      <th>n_country_shared</th>\n",
       "    </tr>\n",
       "    <tr>\n",
       "      <th>user_id</th>\n",
       "      <th></th>\n",
       "      <th></th>\n",
       "      <th></th>\n",
       "      <th></th>\n",
       "      <th></th>\n",
       "      <th></th>\n",
       "      <th></th>\n",
       "      <th></th>\n",
       "      <th></th>\n",
       "      <th></th>\n",
       "    </tr>\n",
       "  </thead>\n",
       "  <tbody>\n",
       "    <tr>\n",
       "      <th>22058</th>\n",
       "      <td>34</td>\n",
       "      <td>SEO</td>\n",
       "      <td>Chrome</td>\n",
       "      <td>M</td>\n",
       "      <td>39</td>\n",
       "      <td>0</td>\n",
       "      <td>4506682.0</td>\n",
       "      <td>1</td>\n",
       "      <td>1</td>\n",
       "      <td>7918</td>\n",
       "    </tr>\n",
       "    <tr>\n",
       "      <th>333320</th>\n",
       "      <td>16</td>\n",
       "      <td>Ads</td>\n",
       "      <td>Chrome</td>\n",
       "      <td>F</td>\n",
       "      <td>53</td>\n",
       "      <td>0</td>\n",
       "      <td>17944.0</td>\n",
       "      <td>1</td>\n",
       "      <td>1</td>\n",
       "      <td>59222</td>\n",
       "    </tr>\n",
       "    <tr>\n",
       "      <th>1359</th>\n",
       "      <td>15</td>\n",
       "      <td>SEO</td>\n",
       "      <td>Opera</td>\n",
       "      <td>M</td>\n",
       "      <td>53</td>\n",
       "      <td>1</td>\n",
       "      <td>1.0</td>\n",
       "      <td>12</td>\n",
       "      <td>12</td>\n",
       "      <td>59222</td>\n",
       "    </tr>\n",
       "    <tr>\n",
       "      <th>150084</th>\n",
       "      <td>44</td>\n",
       "      <td>SEO</td>\n",
       "      <td>Safari</td>\n",
       "      <td>M</td>\n",
       "      <td>41</td>\n",
       "      <td>0</td>\n",
       "      <td>492085.0</td>\n",
       "      <td>1</td>\n",
       "      <td>1</td>\n",
       "      <td>20017</td>\n",
       "    </tr>\n",
       "    <tr>\n",
       "      <th>221365</th>\n",
       "      <td>39</td>\n",
       "      <td>Ads</td>\n",
       "      <td>Safari</td>\n",
       "      <td>M</td>\n",
       "      <td>45</td>\n",
       "      <td>0</td>\n",
       "      <td>4361461.0</td>\n",
       "      <td>1</td>\n",
       "      <td>1</td>\n",
       "      <td>59222</td>\n",
       "    </tr>\n",
       "  </tbody>\n",
       "</table>\n",
       "</div>"
      ],
      "text/plain": [
       "         purchase_value source browser sex  age  class  interval_after_signup  \\\n",
       "user_id                                                                         \n",
       "22058                34    SEO  Chrome   M   39      0              4506682.0   \n",
       "333320               16    Ads  Chrome   F   53      0                17944.0   \n",
       "1359                 15    SEO   Opera   M   53      1                    1.0   \n",
       "150084               44    SEO  Safari   M   41      0               492085.0   \n",
       "221365               39    Ads  Safari   M   45      0              4361461.0   \n",
       "\n",
       "         n_dev_shared  n_ip_shared  n_country_shared  \n",
       "user_id                                               \n",
       "22058               1            1              7918  \n",
       "333320              1            1             59222  \n",
       "1359               12           12             59222  \n",
       "150084              1            1             20017  \n",
       "221365              1            1             59222  "
      ]
     },
     "execution_count": 12,
     "metadata": {},
     "output_type": "execute_result"
    }
   ],
   "source": [
    "datas.head()#glance"
   ]
  },
  {
   "cell_type": "code",
   "execution_count": 13,
   "metadata": {
    "collapsed": true
   },
   "outputs": [],
   "source": [
    "datas['is_male'] = (datas.sex == 'M').astype(int)\n",
    "del datas['sex']"
   ]
  },
  {
   "cell_type": "code",
   "execution_count": 14,
   "metadata": {
    "collapsed": false
   },
   "outputs": [
    {
     "data": {
      "text/plain": [
       "SEO       60615\n",
       "Ads       59881\n",
       "Direct    30616\n",
       "Name: source, dtype: int64"
      ]
     },
     "execution_count": 14,
     "metadata": {},
     "output_type": "execute_result"
    }
   ],
   "source": [
    "datas.source.value_counts()"
   ]
  },
  {
   "cell_type": "code",
   "execution_count": 15,
   "metadata": {
    "collapsed": false
   },
   "outputs": [
    {
     "data": {
      "text/plain": [
       "Chrome     61432\n",
       "IE         36727\n",
       "Safari     24667\n",
       "FireFox    24610\n",
       "Opera       3676\n",
       "Name: browser, dtype: int64"
      ]
     },
     "execution_count": 15,
     "metadata": {},
     "output_type": "execute_result"
    }
   ],
   "source": [
    "datas.browser.value_counts()"
   ]
  },
  {
   "cell_type": "code",
   "execution_count": 16,
   "metadata": {
    "collapsed": false
   },
   "outputs": [
    {
     "data": {
      "text/html": [
       "<div>\n",
       "<table border=\"1\" class=\"dataframe\">\n",
       "  <thead>\n",
       "    <tr style=\"text-align: right;\">\n",
       "      <th></th>\n",
       "      <th>purchase_value</th>\n",
       "      <th>age</th>\n",
       "      <th>class</th>\n",
       "      <th>interval_after_signup</th>\n",
       "      <th>n_dev_shared</th>\n",
       "      <th>n_ip_shared</th>\n",
       "      <th>n_country_shared</th>\n",
       "      <th>is_male</th>\n",
       "      <th>source_Ads</th>\n",
       "      <th>source_SEO</th>\n",
       "      <th>browser_Chrome</th>\n",
       "      <th>browser_FireFox</th>\n",
       "      <th>browser_IE</th>\n",
       "      <th>browser_Safari</th>\n",
       "    </tr>\n",
       "    <tr>\n",
       "      <th>user_id</th>\n",
       "      <th></th>\n",
       "      <th></th>\n",
       "      <th></th>\n",
       "      <th></th>\n",
       "      <th></th>\n",
       "      <th></th>\n",
       "      <th></th>\n",
       "      <th></th>\n",
       "      <th></th>\n",
       "      <th></th>\n",
       "      <th></th>\n",
       "      <th></th>\n",
       "      <th></th>\n",
       "      <th></th>\n",
       "    </tr>\n",
       "  </thead>\n",
       "  <tbody>\n",
       "    <tr>\n",
       "      <th>22058</th>\n",
       "      <td>34</td>\n",
       "      <td>39</td>\n",
       "      <td>0</td>\n",
       "      <td>4506682.0</td>\n",
       "      <td>1</td>\n",
       "      <td>1</td>\n",
       "      <td>7918</td>\n",
       "      <td>1</td>\n",
       "      <td>0.0</td>\n",
       "      <td>1.0</td>\n",
       "      <td>1.0</td>\n",
       "      <td>0.0</td>\n",
       "      <td>0.0</td>\n",
       "      <td>0.0</td>\n",
       "    </tr>\n",
       "    <tr>\n",
       "      <th>333320</th>\n",
       "      <td>16</td>\n",
       "      <td>53</td>\n",
       "      <td>0</td>\n",
       "      <td>17944.0</td>\n",
       "      <td>1</td>\n",
       "      <td>1</td>\n",
       "      <td>59222</td>\n",
       "      <td>0</td>\n",
       "      <td>1.0</td>\n",
       "      <td>0.0</td>\n",
       "      <td>1.0</td>\n",
       "      <td>0.0</td>\n",
       "      <td>0.0</td>\n",
       "      <td>0.0</td>\n",
       "    </tr>\n",
       "    <tr>\n",
       "      <th>1359</th>\n",
       "      <td>15</td>\n",
       "      <td>53</td>\n",
       "      <td>1</td>\n",
       "      <td>1.0</td>\n",
       "      <td>12</td>\n",
       "      <td>12</td>\n",
       "      <td>59222</td>\n",
       "      <td>1</td>\n",
       "      <td>0.0</td>\n",
       "      <td>1.0</td>\n",
       "      <td>0.0</td>\n",
       "      <td>0.0</td>\n",
       "      <td>0.0</td>\n",
       "      <td>0.0</td>\n",
       "    </tr>\n",
       "    <tr>\n",
       "      <th>150084</th>\n",
       "      <td>44</td>\n",
       "      <td>41</td>\n",
       "      <td>0</td>\n",
       "      <td>492085.0</td>\n",
       "      <td>1</td>\n",
       "      <td>1</td>\n",
       "      <td>20017</td>\n",
       "      <td>1</td>\n",
       "      <td>0.0</td>\n",
       "      <td>1.0</td>\n",
       "      <td>0.0</td>\n",
       "      <td>0.0</td>\n",
       "      <td>0.0</td>\n",
       "      <td>1.0</td>\n",
       "    </tr>\n",
       "    <tr>\n",
       "      <th>221365</th>\n",
       "      <td>39</td>\n",
       "      <td>45</td>\n",
       "      <td>0</td>\n",
       "      <td>4361461.0</td>\n",
       "      <td>1</td>\n",
       "      <td>1</td>\n",
       "      <td>59222</td>\n",
       "      <td>1</td>\n",
       "      <td>1.0</td>\n",
       "      <td>0.0</td>\n",
       "      <td>0.0</td>\n",
       "      <td>0.0</td>\n",
       "      <td>0.0</td>\n",
       "      <td>1.0</td>\n",
       "    </tr>\n",
       "  </tbody>\n",
       "</table>\n",
       "</div>"
      ],
      "text/plain": [
       "         purchase_value  age  class  interval_after_signup  n_dev_shared  \\\n",
       "user_id                                                                    \n",
       "22058                34   39      0              4506682.0             1   \n",
       "333320               16   53      0                17944.0             1   \n",
       "1359                 15   53      1                    1.0            12   \n",
       "150084               44   41      0               492085.0             1   \n",
       "221365               39   45      0              4361461.0             1   \n",
       "\n",
       "         n_ip_shared  n_country_shared  is_male  source_Ads  source_SEO  \\\n",
       "user_id                                                                   \n",
       "22058              1              7918        1         0.0         1.0   \n",
       "333320             1             59222        0         1.0         0.0   \n",
       "1359              12             59222        1         0.0         1.0   \n",
       "150084             1             20017        1         0.0         1.0   \n",
       "221365             1             59222        1         1.0         0.0   \n",
       "\n",
       "         browser_Chrome  browser_FireFox  browser_IE  browser_Safari  \n",
       "user_id                                                               \n",
       "22058               1.0              0.0         0.0             0.0  \n",
       "333320              1.0              0.0         0.0             0.0  \n",
       "1359                0.0              0.0         0.0             0.0  \n",
       "150084              0.0              0.0         0.0             1.0  \n",
       "221365              0.0              0.0         0.0             1.0  "
      ]
     },
     "execution_count": 16,
     "metadata": {},
     "output_type": "execute_result"
    }
   ],
   "source": [
    "datas = pd.get_dummies(datas,columns=['source','browser'])\n",
    "\n",
    "del datas['source_Direct']\n",
    "del datas['browser_Opera']\n",
    "datas.head()"
   ]
  },
  {
   "cell_type": "code",
   "execution_count": 18,
   "metadata": {
    "collapsed": true
   },
   "outputs": [],
   "source": [
    "datas.rename(columns={'class':'is_fraud'},inplace=True)# 'class' is a reserved keyword"
   ]
  },
  {
   "cell_type": "code",
   "execution_count": 19,
   "metadata": {
    "collapsed": true
   },
   "outputs": [],
   "source": [
    "datas.to_csv(\"fraud_cleaned.csv\",index_column=\"user_id\")"
   ]
  },
  {
   "cell_type": "markdown",
   "metadata": {},
   "source": [
    "## Train the model"
   ]
  },
  {
   "cell_type": "code",
   "execution_count": 22,
   "metadata": {
    "collapsed": false
   },
   "outputs": [],
   "source": [
    "seed = 999\n",
    "X = datas.loc[:,datas.columns != 'is_fraud']\n",
    "y = datas.is_fraud\n",
    "\n",
    "# split into training dataset and test dataset\n",
    "Xtrain,Xtest,ytrain,ytest = train_test_split(X,y,test_size=0.3,random_state=seed)\n",
    "train_matrix = xgb.DMatrix(Xtrain,ytrain)\n",
    "test_matrix = xgb.DMatrix(Xtest)"
   ]
  },
  {
   "cell_type": "markdown",
   "metadata": {},
   "source": [
    "use cross-validation to find best number of trees"
   ]
  },
  {
   "cell_type": "code",
   "execution_count": 23,
   "metadata": {
    "collapsed": false
   },
   "outputs": [
    {
     "name": "stdout",
     "output_type": "stream",
     "text": [
      "[0]\ttrain-auc:0.771546+0.00524744\ttest-auc:0.770658+0.00286621\n",
      "[1]\ttrain-auc:0.828551+0.0290456\ttest-auc:0.82879+0.0296907\n",
      "[2]\ttrain-auc:0.829073+0.0292622\ttest-auc:0.829265+0.0299308\n",
      "[3]\ttrain-auc:0.843891+0.00161622\ttest-auc:0.843114+0.00351619\n",
      "[4]\ttrain-auc:0.843993+0.00165062\ttest-auc:0.84312+0.00346683\n",
      "[5]\ttrain-auc:0.844132+0.00165534\ttest-auc:0.843222+0.00332106\n",
      "[6]\ttrain-auc:0.845998+0.00290977\ttest-auc:0.843694+0.00320865\n",
      "[7]\ttrain-auc:0.84758+0.00239478\ttest-auc:0.845143+0.00275752\n",
      "[8]\ttrain-auc:0.847828+0.00243844\ttest-auc:0.845126+0.00285552\n",
      "[9]\ttrain-auc:0.849784+0.003473\ttest-auc:0.845427+0.00358305\n",
      "[10]\ttrain-auc:0.851399+0.0027884\ttest-auc:0.845869+0.00350793\n",
      "[11]\ttrain-auc:0.85358+0.00212734\ttest-auc:0.847238+0.00454846\n",
      "[12]\ttrain-auc:0.854709+0.00180134\ttest-auc:0.846749+0.00429689\n",
      "[13]\ttrain-auc:0.855845+0.00188134\ttest-auc:0.84693+0.00390591\n",
      "[14]\ttrain-auc:0.857085+0.00167226\ttest-auc:0.845753+0.00402741\n",
      "[15]\ttrain-auc:0.859103+0.0014033\ttest-auc:0.845038+0.0034853\n",
      "[16]\ttrain-auc:0.860174+0.00186097\ttest-auc:0.845491+0.00313501\n",
      "[17]\ttrain-auc:0.860956+0.00213896\ttest-auc:0.845113+0.00288054\n",
      "[18]\ttrain-auc:0.862026+0.00217327\ttest-auc:0.844553+0.0036318\n",
      "[19]\ttrain-auc:0.864022+0.00258936\ttest-auc:0.844887+0.00257281\n",
      "[20]\ttrain-auc:0.865654+0.00252332\ttest-auc:0.844923+0.00297976\n",
      "[21]\ttrain-auc:0.867335+0.00281944\ttest-auc:0.844963+0.00347115\n",
      "[22]\ttrain-auc:0.868587+0.00314417\ttest-auc:0.845304+0.00362951\n",
      "[23]\ttrain-auc:0.870288+0.00274623\ttest-auc:0.845473+0.00404545\n",
      "[24]\ttrain-auc:0.871211+0.0029543\ttest-auc:0.845827+0.00401322\n",
      "[25]\ttrain-auc:0.872824+0.00275456\ttest-auc:0.845829+0.0043358\n",
      "[26]\ttrain-auc:0.874218+0.0023693\ttest-auc:0.846491+0.00470582\n",
      "[27]\ttrain-auc:0.875102+0.00225912\ttest-auc:0.846682+0.00469965\n",
      "[28]\ttrain-auc:0.87574+0.00231404\ttest-auc:0.846653+0.00531859\n",
      "[29]\ttrain-auc:0.877117+0.00285074\ttest-auc:0.846515+0.0056832\n",
      "[30]\ttrain-auc:0.877861+0.00256169\ttest-auc:0.846661+0.00561412\n",
      "[31]\ttrain-auc:0.878586+0.00295363\ttest-auc:0.846667+0.00573711\n",
      "[32]\ttrain-auc:0.879255+0.00241988\ttest-auc:0.846608+0.00598761\n",
      "[33]\ttrain-auc:0.880164+0.00252965\ttest-auc:0.846604+0.00634192\n",
      "[34]\ttrain-auc:0.880992+0.00287528\ttest-auc:0.846608+0.00599749\n",
      "[35]\ttrain-auc:0.881398+0.00252432\ttest-auc:0.846584+0.00595722\n",
      "[36]\ttrain-auc:0.882103+0.00244095\ttest-auc:0.846423+0.00617794\n",
      "[37]\ttrain-auc:0.882939+0.00240696\ttest-auc:0.8465+0.00584661\n",
      "[38]\ttrain-auc:0.883577+0.00269855\ttest-auc:0.845798+0.00607871\n",
      "[39]\ttrain-auc:0.883981+0.00294334\ttest-auc:0.846187+0.00617134\n",
      "[40]\ttrain-auc:0.884686+0.00267154\ttest-auc:0.846306+0.00610573\n"
     ]
    }
   ],
   "source": [
    "params = {}\n",
    "params['silent'] = 1\n",
    "params['objective'] = 'binary:logistic'  # output probabilities\n",
    "params['eval_metric'] = 'auc'\n",
    "params[\"num_rounds\"] = 300\n",
    "params[\"early_stopping_rounds\"] = 30\n",
    "# params['min_child_weight'] = 2\n",
    "params['max_depth'] = 6\n",
    "params['eta'] = 0.1\n",
    "params[\"subsample\"] = 0.8\n",
    "params[\"colsample_bytree\"] = 0.8\n",
    "\n",
    "cv_results = xgb.cv(params,train_matrix,\n",
    "                    num_boost_round = params[\"num_rounds\"],\n",
    "                    nfold = params.get('nfold',5),\n",
    "                    metrics = params['eval_metric'],\n",
    "                    early_stopping_rounds = params[\"early_stopping_rounds\"],\n",
    "                    verbose_eval = True,\n",
    "                    seed = seed)"
   ]
  },
  {
   "cell_type": "code",
   "execution_count": 24,
   "metadata": {
    "collapsed": false
   },
   "outputs": [
    {
     "data": {
      "text/html": [
       "<div>\n",
       "<table border=\"1\" class=\"dataframe\">\n",
       "  <thead>\n",
       "    <tr style=\"text-align: right;\">\n",
       "      <th></th>\n",
       "      <th>test-auc-mean</th>\n",
       "      <th>test-auc-std</th>\n",
       "      <th>train-auc-mean</th>\n",
       "      <th>train-auc-std</th>\n",
       "    </tr>\n",
       "  </thead>\n",
       "  <tbody>\n",
       "    <tr>\n",
       "      <th>0</th>\n",
       "      <td>0.770658</td>\n",
       "      <td>0.002866</td>\n",
       "      <td>0.771546</td>\n",
       "      <td>0.005247</td>\n",
       "    </tr>\n",
       "    <tr>\n",
       "      <th>1</th>\n",
       "      <td>0.828790</td>\n",
       "      <td>0.029691</td>\n",
       "      <td>0.828551</td>\n",
       "      <td>0.029046</td>\n",
       "    </tr>\n",
       "    <tr>\n",
       "      <th>2</th>\n",
       "      <td>0.829265</td>\n",
       "      <td>0.029931</td>\n",
       "      <td>0.829073</td>\n",
       "      <td>0.029262</td>\n",
       "    </tr>\n",
       "    <tr>\n",
       "      <th>3</th>\n",
       "      <td>0.843114</td>\n",
       "      <td>0.003516</td>\n",
       "      <td>0.843891</td>\n",
       "      <td>0.001616</td>\n",
       "    </tr>\n",
       "    <tr>\n",
       "      <th>4</th>\n",
       "      <td>0.843120</td>\n",
       "      <td>0.003467</td>\n",
       "      <td>0.843993</td>\n",
       "      <td>0.001651</td>\n",
       "    </tr>\n",
       "    <tr>\n",
       "      <th>5</th>\n",
       "      <td>0.843222</td>\n",
       "      <td>0.003321</td>\n",
       "      <td>0.844132</td>\n",
       "      <td>0.001655</td>\n",
       "    </tr>\n",
       "    <tr>\n",
       "      <th>6</th>\n",
       "      <td>0.843694</td>\n",
       "      <td>0.003209</td>\n",
       "      <td>0.845998</td>\n",
       "      <td>0.002910</td>\n",
       "    </tr>\n",
       "    <tr>\n",
       "      <th>7</th>\n",
       "      <td>0.845143</td>\n",
       "      <td>0.002758</td>\n",
       "      <td>0.847580</td>\n",
       "      <td>0.002395</td>\n",
       "    </tr>\n",
       "    <tr>\n",
       "      <th>8</th>\n",
       "      <td>0.845126</td>\n",
       "      <td>0.002856</td>\n",
       "      <td>0.847828</td>\n",
       "      <td>0.002438</td>\n",
       "    </tr>\n",
       "    <tr>\n",
       "      <th>9</th>\n",
       "      <td>0.845427</td>\n",
       "      <td>0.003583</td>\n",
       "      <td>0.849784</td>\n",
       "      <td>0.003473</td>\n",
       "    </tr>\n",
       "    <tr>\n",
       "      <th>10</th>\n",
       "      <td>0.845869</td>\n",
       "      <td>0.003508</td>\n",
       "      <td>0.851399</td>\n",
       "      <td>0.002788</td>\n",
       "    </tr>\n",
       "    <tr>\n",
       "      <th>11</th>\n",
       "      <td>0.847238</td>\n",
       "      <td>0.004548</td>\n",
       "      <td>0.853580</td>\n",
       "      <td>0.002127</td>\n",
       "    </tr>\n",
       "  </tbody>\n",
       "</table>\n",
       "</div>"
      ],
      "text/plain": [
       "    test-auc-mean  test-auc-std  train-auc-mean  train-auc-std\n",
       "0        0.770658      0.002866        0.771546       0.005247\n",
       "1        0.828790      0.029691        0.828551       0.029046\n",
       "2        0.829265      0.029931        0.829073       0.029262\n",
       "3        0.843114      0.003516        0.843891       0.001616\n",
       "4        0.843120      0.003467        0.843993       0.001651\n",
       "5        0.843222      0.003321        0.844132       0.001655\n",
       "6        0.843694      0.003209        0.845998       0.002910\n",
       "7        0.845143      0.002758        0.847580       0.002395\n",
       "8        0.845126      0.002856        0.847828       0.002438\n",
       "9        0.845427      0.003583        0.849784       0.003473\n",
       "10       0.845869      0.003508        0.851399       0.002788\n",
       "11       0.847238      0.004548        0.853580       0.002127"
      ]
     },
     "execution_count": 24,
     "metadata": {},
     "output_type": "execute_result"
    }
   ],
   "source": [
    "cv_results"
   ]
  },
  {
   "cell_type": "code",
   "execution_count": 25,
   "metadata": {
    "collapsed": false
   },
   "outputs": [
    {
     "data": {
      "text/plain": [
       "12"
      ]
     },
     "execution_count": 25,
     "metadata": {},
     "output_type": "execute_result"
    }
   ],
   "source": [
    "n_best_trees = cv_results.shape[0]\n",
    "n_best_trees"
   ]
  },
  {
   "cell_type": "code",
   "execution_count": 26,
   "metadata": {
    "collapsed": false
   },
   "outputs": [
    {
     "name": "stdout",
     "output_type": "stream",
     "text": [
      "[0]\ttrain-auc:0.843912\n",
      "[1]\ttrain-auc:0.843976\n",
      "[2]\ttrain-auc:0.844038\n",
      "[3]\ttrain-auc:0.844038\n",
      "[4]\ttrain-auc:0.844087\n",
      "[5]\ttrain-auc:0.843739\n",
      "[6]\ttrain-auc:0.846312\n",
      "[7]\ttrain-auc:0.848307\n",
      "[8]\ttrain-auc:0.848355\n",
      "[9]\ttrain-auc:0.849492\n",
      "[10]\ttrain-auc:0.853086\n",
      "[11]\ttrain-auc:0.853133\n"
     ]
    }
   ],
   "source": [
    "# retrain on the whole training dataset\n",
    "watchlist = [(train_matrix, 'train')]\n",
    "gbt = xgb.train(params, train_matrix, n_best_trees,watchlist)"
   ]
  },
  {
   "cell_type": "markdown",
   "metadata": {},
   "source": [
    "## Plot ROC and choose threshold"
   ]
  },
  {
   "cell_type": "code",
   "execution_count": 28,
   "metadata": {
    "collapsed": true
   },
   "outputs": [],
   "source": [
    "def plot_validation_roc():\n",
    "    \"\"\"\n",
    "    we cannot plot ROC on either training set or test set, since both are biased\n",
    "    so I split the training dataset again into training set and validation set\n",
    "    retrain on training set and plot ROC on validation set and choose a proper cutoff value\n",
    "    \n",
    "    define a class to limit the naming group, avoid polluting the global naming space\n",
    "    \"\"\"\n",
    "    Xtrain_only,Xvalid,ytrain_only,yvalid = train_test_split(Xtrain,ytrain,test_size=0.3,random_state=seed)\n",
    "    onlytrain_matrix = xgb.DMatrix(Xtrain_only,ytrain_only)\n",
    "    valid_matrix = xgb.DMatrix(Xvalid,yvalid)\n",
    "\n",
    "    temp_gbt = xgb.train(params, onlytrain_matrix, n_best_trees,[(onlytrain_matrix,'train_only'),(valid_matrix,'validate')])\n",
    "    yvalid_proba_pred = temp_gbt.predict(valid_matrix,ntree_limit=n_best_trees)\n",
    "\n",
    "    fpr,tpr,thresholds = roc_curve(yvalid,yvalid_proba_pred)\n",
    "    return pd.DataFrame({'FPR':fpr,'TPR':tpr,'Threshold':thresholds})"
   ]
  },
  {
   "cell_type": "code",
   "execution_count": null,
   "metadata": {
    "collapsed": true
   },
   "outputs": [],
   "source": [
    "roc = plot_validation_roc()"
   ]
  },
  {
   "cell_type": "code",
   "execution_count": 34,
   "metadata": {
    "collapsed": false
   },
   "outputs": [
    {
     "data": {
      "text/plain": [
       "<matplotlib.text.Text at 0x11cf04190>"
      ]
     },
     "execution_count": 34,
     "metadata": {},
     "output_type": "execute_result"
    },
    {
     "data": {
      "image/png": "[encoded data removed]",
      "text/plain": [
       "<matplotlib.figure.Figure at 0x11dbaee50>"
      ]
     },
     "metadata": {},
     "output_type": "display_data"
    }
   ],
   "source": [
    "plt.figure(figsize=(10,5))\n",
    "plt.plot(roc.FPR,roc.TPR,marker='h')\n",
    "plt.xlabel(\"FPR\")\n",
    "plt.ylabel(\"TPR\")"
   ]
  },
  {
   "cell_type": "markdown",
   "metadata": {},
   "source": [
    "## Impact of FP vs. FN\n",
    "* if ** false positive ** cost much higher, we should increase the probability threshold, but pay the price TPR is also decreased.\n",
    "* if ** false negative ** cost much higher, we should decrease the probability threshold, but pay the price FPR is also increased."
   ]
  },
  {
   "cell_type": "code",
   "execution_count": 36,
   "metadata": {
    "collapsed": false
   },
   "outputs": [
    {
     "data": {
      "text/html": [
       "<div>\n",
       "<table border=\"1\" class=\"dataframe\">\n",
       "  <thead>\n",
       "    <tr style=\"text-align: right;\">\n",
       "      <th></th>\n",
       "      <th>FPR</th>\n",
       "      <th>TPR</th>\n",
       "      <th>Threshold</th>\n",
       "    </tr>\n",
       "  </thead>\n",
       "  <tbody>\n",
       "    <tr>\n",
       "      <th>450</th>\n",
       "      <td>0.253576</td>\n",
       "      <td>0.781742</td>\n",
       "      <td>0.170148</td>\n",
       "    </tr>\n",
       "    <tr>\n",
       "      <th>451</th>\n",
       "      <td>0.264623</td>\n",
       "      <td>0.784190</td>\n",
       "      <td>0.169995</td>\n",
       "    </tr>\n",
       "    <tr>\n",
       "      <th>452</th>\n",
       "      <td>0.275879</td>\n",
       "      <td>0.787338</td>\n",
       "      <td>0.169906</td>\n",
       "    </tr>\n",
       "    <tr>\n",
       "      <th>453</th>\n",
       "      <td>0.353905</td>\n",
       "      <td>0.810073</td>\n",
       "      <td>0.169816</td>\n",
       "    </tr>\n",
       "    <tr>\n",
       "      <th>454</th>\n",
       "      <td>0.382580</td>\n",
       "      <td>0.817768</td>\n",
       "      <td>0.169803</td>\n",
       "    </tr>\n",
       "    <tr>\n",
       "      <th>455</th>\n",
       "      <td>0.397922</td>\n",
       "      <td>0.821266</td>\n",
       "      <td>0.169541</td>\n",
       "    </tr>\n",
       "    <tr>\n",
       "      <th>456</th>\n",
       "      <td>0.401835</td>\n",
       "      <td>0.822665</td>\n",
       "      <td>0.169427</td>\n",
       "    </tr>\n",
       "    <tr>\n",
       "      <th>457</th>\n",
       "      <td>0.402251</td>\n",
       "      <td>0.822665</td>\n",
       "      <td>0.169367</td>\n",
       "    </tr>\n",
       "  </tbody>\n",
       "</table>\n",
       "</div>"
      ],
      "text/plain": [
       "          FPR       TPR  Threshold\n",
       "450  0.253576  0.781742   0.170148\n",
       "451  0.264623  0.784190   0.169995\n",
       "452  0.275879  0.787338   0.169906\n",
       "453  0.353905  0.810073   0.169816\n",
       "454  0.382580  0.817768   0.169803\n",
       "455  0.397922  0.821266   0.169541\n",
       "456  0.401835  0.822665   0.169427\n",
       "457  0.402251  0.822665   0.169367"
      ]
     },
     "execution_count": 36,
     "metadata": {},
     "output_type": "execute_result"
    }
   ],
   "source": [
    "roc.loc[ (roc.TPR >= 0.78) & (roc.TPR <=0.83),:]"
   ]
  },
  {
   "cell_type": "markdown",
   "metadata": {},
   "source": [
    "in this case, because normally this \"Fraud Detection Model\" is often used in a pre-screening step, whose result will be further investigated by expert, so\n",
    "* if 'Not Fraud' is classified as 'Fraud', human expert can still have method to fix the problem\n",
    "* but if 'Fraud' is classified as 'Not Fraud', the company will lose money directly.\n",
    "\n",
    "<span style='color:orange;font-size:1.5em;font-weight:bold'>so in this case, \"false negative\" cost much higher, so we should choose a relatively smaller threshold.</span>"
   ]
  },
  {
   "cell_type": "markdown",
   "metadata": {},
   "source": [
    "# Answer question 3\n",
    "<span style='color:blue'>Your boss is a bit worried about using a model she doesn't understand for something as important as fraud detection. How would you explain her how the model is making the predictions? Not from a mathematical perspective (she couldn't care less about that), but from a user perspective. What kinds of users are more likely to be classiﬁed as at risk? What are their characteristics?</span>"
   ]
  },
  {
   "cell_type": "code",
   "execution_count": 37,
   "metadata": {
    "collapsed": false
   },
   "outputs": [
    {
     "data": {
      "text/plain": [
       "<matplotlib.axes._subplots.AxesSubplot at 0x11e513d90>"
      ]
     },
     "execution_count": 37,
     "metadata": {},
     "output_type": "execute_result"
    },
    {
     "data": {
      "image/png": "[encoded data removed]",
      "text/plain": [
       "<matplotlib.figure.Figure at 0x11a73d850>"
      ]
     },
     "metadata": {},
     "output_type": "display_data"
    }
   ],
   "source": [
    "# first we plot the feature importance from GBM\n",
    "xgb.plot_importance(gbt)"
   ]
  },
  {
   "cell_type": "markdown",
   "metadata": {},
   "source": [
    "from above model, we can see that, ** 'interval_after_signup' ** is the most important factor helping us to decide a transaction is fraud or not.\n",
    "\n",
    "To better understand, we fit a shallow, simple Decision Tree and plot it."
   ]
  },
  {
   "cell_type": "code",
   "execution_count": 40,
   "metadata": {
    "collapsed": false
   },
   "outputs": [],
   "source": [
    "dt = DecisionTreeClassifier(max_depth=3,min_samples_leaf=20,min_samples_split=20)\n",
    "dt.fit(X,y)\n",
    "export_graphviz(dt,feature_names=X.columns,class_names=['NotFraud','Fraud'],\n",
    "                proportion=True,leaves_parallel=True,filled=True)"
   ]
  },
  {
   "cell_type": "markdown",
   "metadata": {},
   "source": [
    "<img src='tree.png'></img>"
   ]
  },
  {
   "cell_type": "markdown",
   "metadata": {},
   "source": [
    "from above plot, we focus on two leaf-nodes\n",
    "* the blue leaf node indicates, <span style='color:red'>if 'interval_after_signup' is <=69 seconds, which means the customer purchases immediatelly after signup, then there is very high probability that this transaction is fraud</span>.\n",
    "* the leaf-node with positive ratio=23% (the second node from right), if the purchase is <span style='color:red'>from a device shared by 2~4 users, then there is above-normal probability that the transaction is fraud.</span>"
   ]
  },
  {
   "cell_type": "markdown",
   "metadata": {},
   "source": [
    "# Answer question 4\n",
    "<span style='color:blue'>Let's say you now have this model which can be used live to predict in real time if an activity is fraudulent or not. From a product perspective, how would you use it? That is, what kind of diﬀerent user experiences would you build based on the model output?</span>\n",
    "\n",
    "since my model can predict the probability a purchase is fraud, so I need to set two probability cutoffs as 'alert value', ** alert1 and alert2, and alert1 < alert2 **.\n",
    "\n",
    "for a incoming purchase, my model will return the probability 'p' that the purchase is fraud,\n",
    "* if p < alert1, then I assume the purchase is normal, proceed without any problem\n",
    "* if alert1 <= p < alert2, then I assume the purchase is suspicious, I will ask the customer for additional authroization. for example, send email or SMS to the customer, let him/her authorize the purchase.\n",
    "* if p>= alert2, then the purchase is highly suspicious, I not only ask the customer for additional authorization via email or SMS, but also put the purchase on hold and send the purchase information to some human expert for further investigation."
   ]
  },
  {
   "cell_type": "code",
   "execution_count": null,
   "metadata": {
    "collapsed": true
   },
   "outputs": [],
   "source": []
  }
 ],
 "metadata": {
  "kernelspec": {
   "display_name": "Python [Root]",
   "language": "python",
   "name": "Python [Root]"
  },
  "language_info": {
   "codemirror_mode": {
    "name": "ipython",
    "version": 2
   },
   "file_extension": ".py",
   "mimetype": "text/x-python",
   "name": "python",
   "nbconvert_exporter": "python",
   "pygments_lexer": "ipython2",
   "version": "2.7.12"
  }
 },
 "nbformat": 4,
 "nbformat_minor": 0
}
